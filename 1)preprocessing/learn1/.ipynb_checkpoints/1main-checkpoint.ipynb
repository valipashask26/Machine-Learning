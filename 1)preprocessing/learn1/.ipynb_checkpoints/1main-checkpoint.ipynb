{
 "cells": [
  {
   "cell_type": "markdown",
   "id": "dbee66f0-6c70-452b-b334-5f58711f340d",
   "metadata": {},
   "source": [
    "# Preprocessing"
   ]
  },
  {
   "cell_type": "markdown",
   "id": "b253a190-27ab-4f8d-a625-082e15958185",
   "metadata": {},
   "source": [
    "## importing libraries"
   ]
  },
  {
   "cell_type": "code",
   "execution_count": 1,
   "id": "71e0acad-9711-4057-9379-543826abe9ad",
   "metadata": {},
   "outputs": [],
   "source": [
    "import pandas as pd\n",
    "import numpy as np\n",
    "import matplotlib.pyplot as plt"
   ]
  },
  {
   "cell_type": "markdown",
   "id": "edcf3d2c-622b-415a-a792-18bd76ea897c",
   "metadata": {},
   "source": [
    "## calling the dataset"
   ]
  },
  {
   "cell_type": "code",
   "execution_count": 2,
   "id": "532f0fc0-d56d-44f3-87f1-596fd6d2040f",
   "metadata": {},
   "outputs": [
    {
     "name": "stdout",
     "output_type": "stream",
     "text": [
      "[['France' 44.0 72000.0]\n",
      " ['Spain' 27.0 48000.0]\n",
      " ['Germany' 30.0 54000.0]\n",
      " ['Spain' 38.0 61000.0]\n",
      " ['Germany' 40.0 nan]\n",
      " ['France' 35.0 58000.0]\n",
      " ['Spain' nan 52000.0]\n",
      " ['France' 48.0 79000.0]\n",
      " ['Germany' 50.0 83000.0]\n",
      " ['France' 37.0 67000.0]]\n",
      "['No' 'Yes' 'No' 'No' 'Yes' 'Yes' 'No' 'Yes' 'No' 'Yes']\n"
     ]
    }
   ],
   "source": [
    "dataset = pd.read_csv(\"Data.csv\")\n",
    "X = dataset.iloc[:, :-1].values      ##from the dataset, X is ref to feature/independent variables\n",
    "Y = dataset.iloc[:, -1].values       ##from the dataset, Y is ref to dependent/target variables\n",
    "\n",
    "print (X)\n",
    "print (Y)"
   ]
  },
  {
   "cell_type": "markdown",
   "id": "f6817b33-b275-40e6-a9f7-f1b9ea1c6451",
   "metadata": {},
   "source": [
    "## Filling the missing data"
   ]
  },
  {
   "cell_type": "markdown",
   "id": "cd6a85c3-56b7-498b-9168-e194476970a8",
   "metadata": {},
   "source": [
    "### using mean technique"
   ]
  },
  {
   "cell_type": "code",
   "execution_count": 3,
   "id": "c893d552-345f-40b8-9831-8376df69f1cf",
   "metadata": {},
   "outputs": [
    {
     "name": "stdout",
     "output_type": "stream",
     "text": [
      "[['France' 44.0 72000.0]\n",
      " ['Spain' 27.0 48000.0]\n",
      " ['Germany' 30.0 54000.0]\n",
      " ['Spain' 38.0 61000.0]\n",
      " ['Germany' 40.0 63777.77777777778]\n",
      " ['France' 35.0 58000.0]\n",
      " ['Spain' 38.77777777777778 52000.0]\n",
      " ['France' 48.0 79000.0]\n",
      " ['Germany' 50.0 83000.0]\n",
      " ['France' 37.0 67000.0]]\n"
     ]
    }
   ],
   "source": [
    "from sklearn.impute import SimpleImputer\n",
    "\n",
    "imputer = SimpleImputer(missing_values=np.nan, strategy='mean')\n",
    "imputer.fit(X[:, 1:3])\n",
    "X[:, 1:3] = imputer.transform(X[:, 1:3])\n",
    "print (X)"
   ]
  },
  {
   "cell_type": "markdown",
   "id": "3fa0a218-ce39-4209-bced-9ab91c92705f",
   "metadata": {},
   "source": [
    "### using median technique"
   ]
  },
  {
   "cell_type": "code",
   "execution_count": 10,
   "id": "910ee50a-9729-4c1e-a114-c110a4e0bc5f",
   "metadata": {},
   "outputs": [
    {
     "name": "stdout",
     "output_type": "stream",
     "text": [
      "[['France' 44.0 72000.0]\n",
      " ['Spain' 27.0 48000.0]\n",
      " ['Germany' 30.0 54000.0]\n",
      " ['Spain' 38.0 61000.0]\n",
      " ['Germany' 40.0 63777.77777777778]\n",
      " ['France' 35.0 58000.0]\n",
      " ['Spain' 38.77777777777778 52000.0]\n",
      " ['France' 48.0 79000.0]\n",
      " ['Germany' 50.0 83000.0]\n",
      " ['France' 37.0 67000.0]]\n"
     ]
    }
   ],
   "source": [
    "from sklearn.impute import SimpleImputer\n",
    "imputer = SimpleImputer(missing_values=np.nan, strategy='median')\n",
    "imputer.fit(X[:, 1:3])\n",
    "X[:, 1:3] = imputer.transform(X[:, 1:3])\n",
    "print (X)"
   ]
  },
  {
   "cell_type": "markdown",
   "id": "1a0cf1aa-bd03-467b-a3cd-09daf71198f1",
   "metadata": {},
   "source": [
    "### Most Frequent Imputation"
   ]
  },
  {
   "cell_type": "markdown",
   "id": "fc480824-4a6e-4a51-84f8-9684622cd436",
   "metadata": {},
   "source": [
    "For categorical variables, you can fill missing values with the most frequent value in the column."
   ]
  },
  {
   "cell_type": "code",
   "execution_count": 16,
   "id": "8ba7cf87-091b-407d-afa4-c5303466d0b7",
   "metadata": {},
   "outputs": [
    {
     "name": "stdout",
     "output_type": "stream",
     "text": [
      "[['France' 44.0 72000.0]\n",
      " ['Spain' 27.0 48000.0]\n",
      " ['Germany' 30.0 54000.0]\n",
      " ['Spain' 38.0 61000.0]\n",
      " ['Germany' 40.0 48000.0]\n",
      " ['France' 35.0 58000.0]\n",
      " ['Spain' 27.0 52000.0]\n",
      " ['France' 48.0 79000.0]\n",
      " ['Germany' 50.0 83000.0]\n",
      " ['France' 37.0 67000.0]]\n"
     ]
    }
   ],
   "source": [
    "from sklearn.impute import SimpleImputer\n",
    "imputer = SimpleImputer(missing_values=np.nan, strategy='most_frequent') \n",
    "imputer.fit(X[:, 1:3])\n",
    "X[:, 1:3] = imputer.transform(X[:, 1:3])\n",
    "print (X)"
   ]
  },
  {
   "cell_type": "markdown",
   "id": "fbbbcf27-853a-4253-9e56-00b37755f38b",
   "metadata": {},
   "source": [
    "### Constant imputation"
   ]
  },
  {
   "cell_type": "markdown",
   "id": "e8ccc963-722d-4176-a9d6-e7fa2f484cd7",
   "metadata": {},
   "source": [
    "You can fill missing values with a constant value of your choice. This is useful when missing values have a specific meaning in the data."
   ]
  },
  {
   "cell_type": "code",
   "execution_count": 40,
   "id": "be8340aa-9f31-45f1-b49e-a60107e3908b",
   "metadata": {},
   "outputs": [
    {
     "name": "stdout",
     "output_type": "stream",
     "text": [
      "[[0.0 1.0 0.0 1.0 1.0 0.0 0.0 44.0 72000.0]\n",
      " [1.0 0.0 1.0 0.0 1.0 0.0 1.0 27.0 48000.0]\n",
      " [1.0 0.0 1.0 0.0 0.0 1.0 0.0 30.0 54000.0]\n",
      " [1.0 0.0 1.0 0.0 1.0 0.0 1.0 38.0 61000.0]\n",
      " [1.0 0.0 1.0 0.0 0.0 1.0 0.0 40.0 63777.77777777778]\n",
      " [0.0 1.0 0.0 1.0 1.0 0.0 0.0 35.0 58000.0]\n",
      " [1.0 0.0 1.0 0.0 1.0 0.0 1.0 38.77777777777778 52000.0]\n",
      " [0.0 1.0 0.0 1.0 1.0 0.0 0.0 48.0 79000.0]\n",
      " [1.0 0.0 1.0 0.0 0.0 1.0 0.0 50.0 83000.0]\n",
      " [0.0 1.0 0.0 1.0 1.0 0.0 0.0 37.0 67000.0]]\n"
     ]
    }
   ],
   "source": [
    "from sklearn.impute import SimpleImputer\n",
    "\n",
    "imputer = SimpleImputer(missing_values=np.nan, strategy='constant',fill_value=0)\n",
    "imputer.fit(X[:, 1:3])\n",
    "X[:, 1:3] = imputer.transform(X[:, 1:3])\n",
    "print (X)"
   ]
  },
  {
   "cell_type": "markdown",
   "id": "2514e009-6b9a-4591-aa74-66ad1602fe09",
   "metadata": {},
   "source": [
    "If missing values are too prevalent or cannot be imputed accurately, you may choose to simply drop rows or columns with missing values."
   ]
  },
  {
   "cell_type": "markdown",
   "id": "05f9be26-5c97-4f84-b664-bba63f236ec6",
   "metadata": {},
   "source": [
    "## Encoding values"
   ]
  },
  {
   "cell_type": "markdown",
   "id": "557eabcb-f045-4037-9676-9f1f16a451f8",
   "metadata": {},
   "source": [
    "### encoding the independent values"
   ]
  },
  {
   "cell_type": "markdown",
   "id": "648bbf8e-ece6-40d2-8ba7-8230f92865ac",
   "metadata": {},
   "source": [
    "Encoding in the context of machine learning is the process of converting categorical variables into a numerical representation that can be used by machine learning algorithms for analysis and modeling."
   ]
  },
  {
   "cell_type": "markdown",
   "id": "85d88005-bbb7-4f09-bc93-44230adea0b8",
   "metadata": {},
   "source": [
    "#### One Hot encoding"
   ]
  },
  {
   "cell_type": "markdown",
   "id": "f503b1de-6e92-4bab-b5c5-93ad10c0e2b6",
   "metadata": {},
   "source": [
    "Converts categorical variables into binary vectors, where each category becomes a binary feature.\n",
    "\n",
    "Suitable for nominal variables without any inherent order.\n",
    "\n",
    "Helps prevent ordinality assumption by the model.\n",
    "\n",
    "Implemented using libraries like scikit-learn's OneHotEncoder."
   ]
  },
  {
   "cell_type": "code",
   "execution_count": 4,
   "id": "a9d1e3bb-4078-4b5f-9dd0-1c44618fb7b3",
   "metadata": {},
   "outputs": [
    {
     "name": "stdout",
     "output_type": "stream",
     "text": [
      "[[1.0 0.0 0.0 44.0 72000.0]\n",
      " [0.0 0.0 1.0 27.0 48000.0]\n",
      " [0.0 1.0 0.0 30.0 54000.0]\n",
      " [0.0 0.0 1.0 38.0 61000.0]\n",
      " [0.0 1.0 0.0 40.0 63777.77777777778]\n",
      " [1.0 0.0 0.0 35.0 58000.0]\n",
      " [0.0 0.0 1.0 38.77777777777778 52000.0]\n",
      " [1.0 0.0 0.0 48.0 79000.0]\n",
      " [0.0 1.0 0.0 50.0 83000.0]\n",
      " [1.0 0.0 0.0 37.0 67000.0]]\n"
     ]
    }
   ],
   "source": [
    "from sklearn.compose import ColumnTransformer\n",
    "from sklearn.preprocessing import OneHotEncoder\n",
    "\n",
    "ct = ColumnTransformer(transformers=[('encoder',OneHotEncoder(),[0])],remainder='passthrough')\n",
    "X = np.array(ct.fit_transform(X))\n",
    "print (X)"
   ]
  },
  {
   "cell_type": "markdown",
   "id": "ffc0c4c0-6f7c-4c99-9976-431c5f94fe49",
   "metadata": {},
   "source": [
    "### encoding the dependent values"
   ]
  },
  {
   "cell_type": "markdown",
   "id": "99cfbefc-377d-4532-82b0-876b7ffc59b1",
   "metadata": {},
   "source": [
    "#### Label Encoding"
   ]
  },
  {
   "cell_type": "markdown",
   "id": "f7998579-8273-47f1-ab66-ca1862c44cb0",
   "metadata": {},
   "source": [
    "Label encoding is a method of converting categorical variables into numerical format by assigning a unique integer label to each category. This encoding preserves the ordinal relationship among categories, making it suitable for categorical variables with a natural order"
   ]
  },
  {
   "cell_type": "code",
   "execution_count": 5,
   "id": "b7c659ef-1dda-4a59-8939-d750a2ba8e91",
   "metadata": {},
   "outputs": [
    {
     "name": "stdout",
     "output_type": "stream",
     "text": [
      "[0 1 0 0 1 1 0 1 0 1]\n"
     ]
    }
   ],
   "source": [
    "from sklearn.preprocessing import LabelEncoder\n",
    "\n",
    "le = LabelEncoder()\n",
    "Y = le.fit_transform(Y)\n",
    "print (Y)\n"
   ]
  },
  {
   "cell_type": "code",
   "execution_count": 6,
   "id": "ca78298a-2d08-448b-8373-e57ed821b093",
   "metadata": {},
   "outputs": [
    {
     "name": "stdout",
     "output_type": "stream",
     "text": [
      "[[1.0 0.0 0.0 44.0 72000.0 0]\n",
      " [0.0 0.0 1.0 27.0 48000.0 1]\n",
      " [0.0 1.0 0.0 30.0 54000.0 0]\n",
      " [0.0 0.0 1.0 38.0 61000.0 0]\n",
      " [0.0 1.0 0.0 40.0 63777.77777777778 1]\n",
      " [1.0 0.0 0.0 35.0 58000.0 1]\n",
      " [0.0 0.0 1.0 38.77777777777778 52000.0 0]\n",
      " [1.0 0.0 0.0 48.0 79000.0 1]\n",
      " [0.0 1.0 0.0 50.0 83000.0 0]\n",
      " [1.0 0.0 0.0 37.0 67000.0 1]]\n"
     ]
    }
   ],
   "source": [
    "xy_table = np.column_stack((X, Y))   ##prints as full table\n",
    "print (xy_table)"
   ]
  },
  {
   "cell_type": "markdown",
   "id": "92f3cf8a-503d-4f29-9519-3cdca766da56",
   "metadata": {},
   "source": [
    "## Splitting the data for training and testing"
   ]
  },
  {
   "cell_type": "code",
   "execution_count": 9,
   "id": "7213b1d1-0ba5-44ce-859f-a1390d08efde",
   "metadata": {},
   "outputs": [],
   "source": [
    "from sklearn.model_selection import train_test_split\n",
    "\n",
    "X_train, X_test, Y_train, Y_test = train_test_split(X,Y,test_size=0.2,random_state=1)"
   ]
  },
  {
   "cell_type": "code",
   "execution_count": 10,
   "id": "18817aa5-d85d-4b57-acdc-d19c2ddba8c4",
   "metadata": {},
   "outputs": [
    {
     "name": "stdout",
     "output_type": "stream",
     "text": [
      "[[0.0 0.0 1.0 38.77777777777778 52000.0]\n",
      " [0.0 1.0 0.0 40.0 63777.77777777778]\n",
      " [1.0 0.0 0.0 44.0 72000.0]\n",
      " [0.0 0.0 1.0 38.0 61000.0]\n",
      " [0.0 0.0 1.0 27.0 48000.0]\n",
      " [1.0 0.0 0.0 48.0 79000.0]\n",
      " [0.0 1.0 0.0 50.0 83000.0]\n",
      " [1.0 0.0 0.0 35.0 58000.0]]\n"
     ]
    }
   ],
   "source": [
    "print (X_train)"
   ]
  },
  {
   "cell_type": "code",
   "execution_count": 11,
   "id": "a63f6504-ab8c-4afd-b912-365c3e98ced8",
   "metadata": {},
   "outputs": [
    {
     "name": "stdout",
     "output_type": "stream",
     "text": [
      "[[0.0 1.0 0.0 30.0 54000.0]\n",
      " [1.0 0.0 0.0 37.0 67000.0]]\n"
     ]
    }
   ],
   "source": [
    "print (X_test)"
   ]
  },
  {
   "cell_type": "code",
   "execution_count": 12,
   "id": "5723edd3-3af1-448a-9bf3-22aea55618f3",
   "metadata": {},
   "outputs": [
    {
     "name": "stdout",
     "output_type": "stream",
     "text": [
      "[0 1 0 0 1 1 0 1]\n"
     ]
    }
   ],
   "source": [
    "print (Y_train)"
   ]
  },
  {
   "cell_type": "code",
   "execution_count": 13,
   "id": "11aacfd5-8380-4d8a-89f6-645d44d03241",
   "metadata": {},
   "outputs": [
    {
     "name": "stdout",
     "output_type": "stream",
     "text": [
      "[0 1]\n"
     ]
    }
   ],
   "source": [
    "print (Y_test)"
   ]
  },
  {
   "cell_type": "code",
   "execution_count": null,
   "id": "c970206f-aa39-4a0c-b3ad-be4deccf1edb",
   "metadata": {},
   "outputs": [],
   "source": []
  }
 ],
 "metadata": {
  "kernelspec": {
   "display_name": "PY (sk-allenv)",
   "language": "python",
   "name": "sk-allenv"
  },
  "language_info": {
   "codemirror_mode": {
    "name": "ipython",
    "version": 3
   },
   "file_extension": ".py",
   "mimetype": "text/x-python",
   "name": "python",
   "nbconvert_exporter": "python",
   "pygments_lexer": "ipython3",
   "version": "3.12.1"
  }
 },
 "nbformat": 4,
 "nbformat_minor": 5
}
