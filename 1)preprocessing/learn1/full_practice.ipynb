{
 "cells": [
  {
   "cell_type": "code",
   "execution_count": 1,
   "id": "9e4ed0cb-656c-4349-83cf-0803ca0f1cdb",
   "metadata": {},
   "outputs": [],
   "source": [
    "#importing libraries\n",
    "\n",
    "import numpy as np \n",
    "import pandas as pd"
   ]
  },
  {
   "cell_type": "code",
   "execution_count": 2,
   "id": "bca34c7e-b055-4fee-a593-b1473400f3c8",
   "metadata": {},
   "outputs": [],
   "source": [
    "#dataset\n",
    "dataset = pd.read_csv(\"Data.csv\")\n",
    "X = dataset.iloc[:, :-1].values\n",
    "Y = dataset.iloc[:, -1].values"
   ]
  },
  {
   "cell_type": "code",
   "execution_count": 3,
   "id": "cb18516a-e945-45e0-bb4e-ff88be8c01d4",
   "metadata": {},
   "outputs": [
    {
     "name": "stdout",
     "output_type": "stream",
     "text": [
      "[['France' 44.0 72000.0]\n",
      " ['Spain' 27.0 48000.0]\n",
      " ['Germany' 30.0 54000.0]\n",
      " ['Spain' 38.0 61000.0]\n",
      " ['Germany' 40.0 0]\n",
      " ['France' 35.0 58000.0]\n",
      " ['Spain' 0 52000.0]\n",
      " ['France' 48.0 79000.0]\n",
      " ['Germany' 50.0 83000.0]\n",
      " ['France' 37.0 67000.0]]\n"
     ]
    }
   ],
   "source": [
    "#filling missing values in dataset\n",
    "\n",
    "from sklearn.impute import SimpleImputer\n",
    "\n",
    "imputer = SimpleImputer(missing_values=np.nan,strategy='constant',fill_value=0)\n",
    "imputer.fit(X[:, 1:3])\n",
    "X[:, 1:3] = imputer.transform(X[:, 1:3])\n",
    "print (X)"
   ]
  },
  {
   "cell_type": "code",
   "execution_count": 4,
   "id": "55d692aa-af3e-4467-a799-12c23c119f81",
   "metadata": {},
   "outputs": [],
   "source": [
    "#encoding the categorial data"
   ]
  },
  {
   "cell_type": "code",
   "execution_count": 5,
   "id": "e071ce30-1909-4aae-ac2c-703a317e3725",
   "metadata": {},
   "outputs": [],
   "source": [
    "##encoding the categorial data of independent variables"
   ]
  },
  {
   "cell_type": "code",
   "execution_count": 7,
   "id": "c2eb19f8-f0e5-45d2-b85a-903cc3cc9436",
   "metadata": {},
   "outputs": [
    {
     "name": "stdout",
     "output_type": "stream",
     "text": [
      "[[1.0 0.0 0.0 44.0 72000.0]\n",
      " [0.0 0.0 1.0 27.0 48000.0]\n",
      " [0.0 1.0 0.0 30.0 54000.0]\n",
      " [0.0 0.0 1.0 38.0 61000.0]\n",
      " [0.0 1.0 0.0 40.0 0]\n",
      " [1.0 0.0 0.0 35.0 58000.0]\n",
      " [0.0 0.0 1.0 0 52000.0]\n",
      " [1.0 0.0 0.0 48.0 79000.0]\n",
      " [0.0 1.0 0.0 50.0 83000.0]\n",
      " [1.0 0.0 0.0 37.0 67000.0]]\n"
     ]
    }
   ],
   "source": [
    "## using HOT ENCODING \n",
    "from sklearn.compose import ColumnTransformer\n",
    "from sklearn.preprocessing import OneHotEncoder\n",
    "\n",
    "ct = ColumnTransformer(transformers=[('encoder',OneHotEncoder(),[0])], remainder='passthrough')\n",
    "X = np.array(ct.fit_transform(X))\n",
    "print (X)"
   ]
  },
  {
   "cell_type": "code",
   "execution_count": 8,
   "id": "9d62feaa-d93b-4f3c-a6bb-5835f0d6e78c",
   "metadata": {},
   "outputs": [],
   "source": [
    "## encoding the categorial data of depending variables"
   ]
  },
  {
   "cell_type": "code",
   "execution_count": 12,
   "id": "efc585bd-2691-43fe-9a20-145c5b44a3fc",
   "metadata": {},
   "outputs": [
    {
     "name": "stdout",
     "output_type": "stream",
     "text": [
      "[0 1 0 0 1 1 0 1 0 1]\n"
     ]
    }
   ],
   "source": [
    "##using LABEL ENCODING\n",
    "from sklearn.preprocessing import LabelEncoder\n",
    "\n",
    "le = LabelEncoder()\n",
    "Y = le.fit_transform(Y)\n",
    "print (Y)"
   ]
  },
  {
   "cell_type": "code",
   "execution_count": 13,
   "id": "8b29caf6-8bda-41f7-bb4b-7975a35e3e3e",
   "metadata": {},
   "outputs": [],
   "source": [
    "#splitting the data for train & test"
   ]
  },
  {
   "cell_type": "code",
   "execution_count": 21,
   "id": "879133c4-9bb3-4156-a6c9-85c96bbc1251",
   "metadata": {},
   "outputs": [],
   "source": [
    "from sklearn.model_selection import train_test_split\n",
    "\n",
    "X_train, X_test, Y_train, Y_test = train_test_split(X, Y, test_size = 0.2,random_state=1)"
   ]
  },
  {
   "cell_type": "code",
   "execution_count": 22,
   "id": "c86ef33a-7176-4970-9e67-5d2d0ad938c1",
   "metadata": {},
   "outputs": [
    {
     "name": "stdout",
     "output_type": "stream",
     "text": [
      "[[0.0 0.0 1.0 0 52000.0]\n",
      " [0.0 1.0 0.0 40.0 0]\n",
      " [1.0 0.0 0.0 44.0 72000.0]\n",
      " [0.0 0.0 1.0 38.0 61000.0]\n",
      " [0.0 0.0 1.0 27.0 48000.0]\n",
      " [1.0 0.0 0.0 48.0 79000.0]\n",
      " [0.0 1.0 0.0 50.0 83000.0]\n",
      " [1.0 0.0 0.0 35.0 58000.0]]\n"
     ]
    }
   ],
   "source": [
    "print (X_train)"
   ]
  },
  {
   "cell_type": "code",
   "execution_count": 23,
   "id": "74f16679-c6ca-497a-ba84-e2180391f9fa",
   "metadata": {},
   "outputs": [
    {
     "name": "stdout",
     "output_type": "stream",
     "text": [
      "[[0.0 1.0 0.0 30.0 54000.0]\n",
      " [1.0 0.0 0.0 37.0 67000.0]]\n"
     ]
    }
   ],
   "source": [
    "print (X_test)"
   ]
  },
  {
   "cell_type": "code",
   "execution_count": 24,
   "id": "1b8a299a-d7af-421d-8a3a-9450c0de0e4a",
   "metadata": {},
   "outputs": [
    {
     "name": "stdout",
     "output_type": "stream",
     "text": [
      "[0 1 0 0 1 1 0 1]\n"
     ]
    }
   ],
   "source": [
    "print (Y_train)"
   ]
  },
  {
   "cell_type": "code",
   "execution_count": 25,
   "id": "2c33aab4-29cc-4b34-8bb8-751ef83cc412",
   "metadata": {},
   "outputs": [
    {
     "name": "stdout",
     "output_type": "stream",
     "text": [
      "[0 1]\n"
     ]
    }
   ],
   "source": [
    "print (Y_test)"
   ]
  },
  {
   "cell_type": "code",
   "execution_count": 26,
   "id": "4cb8ec21-7f07-4369-8970-98c83ad2631f",
   "metadata": {},
   "outputs": [],
   "source": [
    "# applying feature scaling"
   ]
  },
  {
   "cell_type": "code",
   "execution_count": 27,
   "id": "a032b881-4831-453b-91b1-fa5bb1af7226",
   "metadata": {},
   "outputs": [],
   "source": [
    "from sklearn.preprocessing import MinMaxScaler\n",
    "\n",
    "mms = MinMaxScaler()\n",
    "X_train[:,3:] = mms.fit_transform(X_train[:, 3:])\n",
    "X_test[:,3:] = mms.transform(X_test[:, 3:])"
   ]
  },
  {
   "cell_type": "code",
   "execution_count": 28,
   "id": "83bfea0b-930f-4e49-a0ca-0074e504d1f6",
   "metadata": {},
   "outputs": [
    {
     "name": "stdout",
     "output_type": "stream",
     "text": [
      "[[0.0 0.0 1.0 0.0 0.6265060240963856]\n",
      " [0.0 1.0 0.0 0.8 0.0]\n",
      " [1.0 0.0 0.0 0.88 0.8674698795180722]\n",
      " [0.0 0.0 1.0 0.76 0.7349397590361445]\n",
      " [0.0 0.0 1.0 0.54 0.5783132530120482]\n",
      " [1.0 0.0 0.0 0.96 0.9518072289156626]\n",
      " [0.0 1.0 0.0 1.0 1.0]\n",
      " [1.0 0.0 0.0 0.7000000000000001 0.6987951807228915]]\n"
     ]
    }
   ],
   "source": [
    "print (X_train)"
   ]
  },
  {
   "cell_type": "code",
   "execution_count": 29,
   "id": "d2eb56ae-f3be-4ecb-9f56-3a510dd7f2dd",
   "metadata": {},
   "outputs": [
    {
     "name": "stdout",
     "output_type": "stream",
     "text": [
      "[[0.0 1.0 0.0 0.6 0.6506024096385542]\n",
      " [1.0 0.0 0.0 0.74 0.8072289156626505]]\n"
     ]
    }
   ],
   "source": [
    "print (X_test)"
   ]
  },
  {
   "cell_type": "code",
   "execution_count": null,
   "id": "4f93a352-3827-4ece-82a4-e82681e9afa1",
   "metadata": {},
   "outputs": [],
   "source": []
  }
 ],
 "metadata": {
  "kernelspec": {
   "display_name": "PY (sk-allenv)",
   "language": "python",
   "name": "sk-allenv"
  },
  "language_info": {
   "codemirror_mode": {
    "name": "ipython",
    "version": 3
   },
   "file_extension": ".py",
   "mimetype": "text/x-python",
   "name": "python",
   "nbconvert_exporter": "python",
   "pygments_lexer": "ipython3",
   "version": "3.12.1"
  }
 },
 "nbformat": 4,
 "nbformat_minor": 5
}
