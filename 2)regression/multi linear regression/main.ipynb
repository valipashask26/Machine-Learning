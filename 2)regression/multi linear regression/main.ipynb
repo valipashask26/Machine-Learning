{
 "cells": [
  {
   "cell_type": "markdown",
   "id": "1bc1f6bf-b439-4deb-9aea-d2c5a1bfdce6",
   "metadata": {},
   "source": [
    "# Multiple Linear Regression"
   ]
  },
  {
   "cell_type": "markdown",
   "id": "375d819b-8b84-41d3-9436-58e8210966ab",
   "metadata": {},
   "source": [
    "## Definition"
   ]
  },
  {
   "cell_type": "markdown",
   "id": "0979c1cd-7654-42c2-8c68-604b50d1436c",
   "metadata": {},
   "source": [
    "Multiple Linear Regression is a statistical technique that models the relationship between a single dependent variable and two or more independent variables. The goal of multiple linear regression is to predict the value of the dependent variable based on the values of the independent variables by fitting a linear equation to the observed data."
   ]
  },
  {
   "cell_type": "markdown",
   "id": "60dfb27e-f921-4c9b-a6e3-1d12d9a51e20",
   "metadata": {},
   "source": [
    "                                    OR                                "
   ]
  },
  {
   "cell_type": "markdown",
   "id": "b46a258d-aa52-4963-914d-839abf5531bc",
   "metadata": {},
   "source": [
    "Multiple Linear Regression is a statistical method used to model the relationship between one dependent variable and two or more independent variables by fitting a linear equation to the observed data."
   ]
  },
  {
   "cell_type": "markdown",
   "id": "2e6f119c-f337-4878-ad76-d30d7f908725",
   "metadata": {},
   "source": [
    "**Example:** Imagine you want to predict a house's price based on its size, number of bedrooms, and age. "
   ]
  },
  {
   "cell_type": "markdown",
   "id": "61596ead-54c9-4654-aa52-0c90cd39a961",
   "metadata": {},
   "source": [
    "**When to Use Simple Linear Regression:**\n",
    "\n",
    "* Use simple linear regression when you want to predict a dependent variable using only one independent variable.\n",
    "* It's appropriate when you believe there is a linear relationship between the independent and dependent variables."
   ]
  },
  {
   "cell_type": "markdown",
   "id": "642f153c-0dba-49e4-992a-9190dfe38581",
   "metadata": {},
   "source": [
    "**When to Use Multiple Linear Regression:**\n",
    "\n",
    "* Use multiple linear regression when you want to predict a dependent variable using multiple independent variables.\n",
    "* It's appropriate when you believe there are multiple factors influencing the dependent variable."
   ]
  },
  {
   "cell_type": "markdown",
   "id": "d30dab15-c975-4ce2-8aac-b1345039f02f",
   "metadata": {},
   "source": [
    "**5 Methods of Building Models:**\n",
    "\n",
    "1) All-in\n",
    "2) Backward Elimination ----->            |\n",
    "3) Forward Selection --------->               |  --> Stepwise regression    \n",
    "4) Bidirectional Elimination--->        |\n",
    "5) Score comparision"
   ]
  },
  {
   "cell_type": "code",
   "execution_count": null,
   "id": "3f5ad62b-fd1a-4952-89a4-527f30ebf15e",
   "metadata": {},
   "outputs": [],
   "source": []
  }
 ],
 "metadata": {
  "kernelspec": {
   "display_name": "PY (sk-allenv)",
   "language": "python",
   "name": "sk-allenv"
  },
  "language_info": {
   "codemirror_mode": {
    "name": "ipython",
    "version": 3
   },
   "file_extension": ".py",
   "mimetype": "text/x-python",
   "name": "python",
   "nbconvert_exporter": "python",
   "pygments_lexer": "ipython3",
   "version": "3.12.1"
  }
 },
 "nbformat": 4,
 "nbformat_minor": 5
}
